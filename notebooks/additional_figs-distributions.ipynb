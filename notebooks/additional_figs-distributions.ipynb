{
 "cells": [
  {
   "cell_type": "code",
   "execution_count": 1,
   "id": "a869916b",
   "metadata": {},
   "outputs": [],
   "source": [
    "from event_parser import data_set\n",
    "import numpy as np\n",
    "import physics as phys\n",
    "import vmath as vm \n",
    "import CMS_analysis as ana\n",
    "import matplotlib\n",
    "import matplotlib.pyplot as plt\n",
    "from copy import deepcopy\n",
    "import cms_plotter as cms_plt\n",
    "import basic_plotter as bp\n",
    "import pandas as pd\n",
    "import seaborn as sns"
   ]
  },
  {
   "cell_type": "markdown",
   "id": "c880c9fa",
   "metadata": {},
   "source": [
    "Note: Figures 2, 3, 4 contain condition lxy > 1cm & lxy < 11cm"
   ]
  },
  {
   "cell_type": "code",
   "execution_count": 2,
   "id": "eb30edfa",
   "metadata": {},
   "outputs": [
    {
     "name": "stdout",
     "output_type": "stream",
     "text": [
      "Fill saved: --- 0.019335031509399414 seconds ---\n"
     ]
    }
   ],
   "source": [
    "#Load a data set, set the parent to being a dark particle, and set\n",
    "#decay options. Note that these options do not affect the content of\n",
    "#the data set, it's just book keeping. These values are saved when \n",
    "#the data set is saved as a numpy array.\n",
    "my_set = data_set()\n",
    "my_set.set_parent(parent_pid = 999999)\n",
    "my_set.set_decay_options(np.array([11,13,211]))\n",
    "#my_set.fill_custom(\"events_CMS_card-cms-m:2-ct:100_mm05.dat\")\n",
    "my_set.fill_saved(\"../data_arrays/events_CMS_card-cms-m2-ct100_mm05_set.npy\")"
   ]
  },
  {
   "cell_type": "code",
   "execution_count": 3,
   "id": "5cd0286b",
   "metadata": {},
   "outputs": [],
   "source": [
    "#Divides the data set into four data sets with only dark particles,\n",
    "#muons, antimuons, tracks jets\n",
    "dpA, muA, amuA, tracksA, jetsA= ana.prep_dataset(my_set)\n",
    "new_events = np.arange(muA.size()) #So that each muon has an individual event\n",
    "muA.event_index = new_events\n",
    "amuA.event_index = new_events"
   ]
  },
  {
   "cell_type": "code",
   "execution_count": 4,
   "id": "eefb740e",
   "metadata": {},
   "outputs": [
    {
     "name": "stdout",
     "output_type": "stream",
     "text": [
      "Fill saved: --- 0.010116338729858398 seconds ---\n"
     ]
    }
   ],
   "source": [
    "#Data is cleared, but the same object is kept. Will be used to load\n",
    "#and divide other models used in the analysis.\n",
    "my_set.clear_data()\n",
    "#my_set.fill_custom(\"events_CMS_card-cms-m:8-ct:10_mm05.dat\")\n",
    "my_set.fill_saved(\"../data_arrays/events_CMS_card-cms-m8-ct10_mm05_set.npy\")\n",
    "dpB, muB, amuB, tracksB, jetsB = ana.prep_dataset(my_set)\n",
    "new_events = np.arange(muB.size()) #So that each muon has an individual event\n",
    "muB.event_index = new_events\n",
    "amuB.event_index = new_events"
   ]
  },
  {
   "cell_type": "code",
   "execution_count": 5,
   "id": "e79443e1",
   "metadata": {},
   "outputs": [
    {
     "name": "stdout",
     "output_type": "stream",
     "text": [
      "Fill saved: --- 0.013346672058105469 seconds ---\n"
     ]
    }
   ],
   "source": [
    "my_set.clear_data()\n",
    "#my_set.fill_custom(\"events_CMS_card-cms-m:15-ct:1_mm05.dat\")\n",
    "my_set.fill_saved(\"../data_arrays/events_CMS_card-cms-m15-ct1_mm05_set.npy\")\n",
    "dpC, muC, amuC, tracksC, jetsC = ana.prep_dataset(my_set)\n",
    "new_events = np.arange(muC.size()) #So that each muon has an individual event\n",
    "muC.event_index = new_events\n",
    "amuC.event_index = new_events"
   ]
  },
  {
   "cell_type": "code",
   "execution_count": 6,
   "id": "6850140f",
   "metadata": {},
   "outputs": [
    {
     "name": "stdout",
     "output_type": "stream",
     "text": [
      "Fill saved: --- 0.04804062843322754 seconds ---\n"
     ]
    }
   ],
   "source": [
    "my_set.clear_data()\n",
    "#my_set.fill_custom(\"events_CMS_card-cms-m:15-ct:1_mm05.dat\")\n",
    "my_set.fill_saved(\"../data_arrays/events_B_to_LLP-mp5-ct1_mm09_full_set.npy\")\n",
    "dpD, muD, amuD, tracksD, jetsD = ana.prep_dataset(my_set)\n",
    "new_events = np.arange(muD.size()) #So that each muon has an individual event\n",
    "muD.event_index = new_events\n",
    "amuD.event_index = new_events"
   ]
  },
  {
   "cell_type": "code",
   "execution_count": 7,
   "id": "cafc89c9",
   "metadata": {},
   "outputs": [
    {
     "name": "stdout",
     "output_type": "stream",
     "text": [
      "Fill saved: --- 0.0797419548034668 seconds ---\n"
     ]
    }
   ],
   "source": [
    "my_set.clear_data()\n",
    "#my_set.fill_custom(\"events_CMS_card-cms-m:15-ct:1_mm05.dat\")\n",
    "my_set.fill_saved(\"../data_arrays/events_B_to_LLP-m2-ct10_mm09_full_set.npy\")\n",
    "dpE, muE, amuE, tracksE, jetsE = ana.prep_dataset(my_set)\n",
    "new_events = np.arange(muE.size()) #So that each muon has an individual event\n",
    "muE.event_index = new_events\n",
    "amuE.event_index = new_events"
   ]
  },
  {
   "cell_type": "code",
   "execution_count": 8,
   "id": "0f963eb6",
   "metadata": {},
   "outputs": [
    {
     "name": "stdout",
     "output_type": "stream",
     "text": [
      "Fill saved: --- 0.055066823959350586 seconds ---\n"
     ]
    }
   ],
   "source": [
    "my_set.clear_data()\n",
    "#my_set.fill_custom(\"events_CMS_card-cms-m:15-ct:1_mm05.dat\")\n",
    "my_set.fill_saved(\"../data_arrays/events_B_to_LLP-m4-ct100_mm09_full_set.npy\")\n",
    "dpF, muF, amuF, tracksF, jetsF = ana.prep_dataset(my_set)\n",
    "new_events = np.arange(muF.size()) #So that each muon has an individual event\n",
    "muF.event_index = new_events\n",
    "amuF.event_index = new_events"
   ]
  },
  {
   "cell_type": "markdown",
   "id": "804f1efc",
   "metadata": {},
   "source": [
    "## List choices for cuts - right now the event cut (combined L1T and HLT_lxy) is automatic"
   ]
  },
  {
   "cell_type": "code",
   "execution_count": 9,
   "id": "91437b9f",
   "metadata": {},
   "outputs": [
    {
     "name": "stdout",
     "output_type": "stream",
     "text": [
      "Set filter by inputting an array of choices\n",
      "Event:0:trig\n",
      "Event:1:lxy_cut\n",
      "Pair:2:iso_cut\n",
      "Pair:3:dphi_muonsDV_cut\n",
      "Pair:4:dphi_muons_cut\n",
      "Pair:5:pileup_cut\n",
      "Pair:6:dxy_cut\n"
     ]
    }
   ],
   "source": [
    "#Lists the possible cut choices that can be implemented. To implement,\n",
    "#create a cut array with cut[i] set to True or False for the desired\n",
    "#decay. \n",
    "ana.list_choices()"
   ]
  },
  {
   "cell_type": "markdown",
   "id": "61e1e120",
   "metadata": {},
   "source": [
    "## Figure 1\n",
    "Distribution of $p_T^{\\mu\\mu}$ for data events and illustrative benchmark signal models, after applying the full event selection."
   ]
  },
  {
   "cell_type": "code",
   "execution_count": 10,
   "id": "b630fa78",
   "metadata": {},
   "outputs": [],
   "source": [
    "#Note that cuts[2] = False because isolation is trivial for \n",
    "#these models. These plots were made with all cuts implemented.\n",
    "cuts = np.array([True, True, True, True, True, True, True]) "
   ]
  },
  {
   "cell_type": "code",
   "execution_count": 11,
   "id": "f5a2b61c",
   "metadata": {},
   "outputs": [],
   "source": [
    "#Page 5 of the CMS analysis - see the cuts on dxy significance. We\n",
    "#did not know sigma explicitly and set it by hand to create plots \n",
    "#that best matched the CMS efficiency plots. \n",
    "sigma = 0.1 "
   ]
  },
  {
   "cell_type": "code",
   "execution_count": 12,
   "id": "d63526a3",
   "metadata": {},
   "outputs": [],
   "source": [
    "#For more details on how this algorithm works, see the code. \n",
    "#Note that the data sets X and sets final_X actually contain\n",
    "#all the same information - however final_X are reordered.\n",
    "#The set final_evt_cutA is a set of boolean variables that state\n",
    "#whether the pair of muons at the same index passed or did not\n",
    "#pass the selection criteria.\n",
    "\n",
    "#The ratio of final/initial muon pairs that pass selection and how\n",
    "#long the analysis took is printed after the program has run."
   ]
  },
  {
   "cell_type": "code",
   "execution_count": 13,
   "id": "fb5ea94f",
   "metadata": {},
   "outputs": [
    {
     "name": "stdout",
     "output_type": "stream",
     "text": [
      "r: 0\n",
      "s: 20000\n",
      "Final: 490 muon pairs\n",
      "Ratio: 0.0245\n",
      "Analyze time: --- 9.035076379776001 seconds ---\n"
     ]
    }
   ],
   "source": [
    "final_dpA, final_muA, final_amuA, final_cutA, final_evt_cutA = ana.get_cms_eff(sigma, dpA, muA, amuA, tracksA, jetsA, cuts)"
   ]
  },
  {
   "cell_type": "code",
   "execution_count": 14,
   "id": "a31f51c7",
   "metadata": {},
   "outputs": [
    {
     "data": {
      "text/plain": [
       "True"
      ]
     },
     "execution_count": 14,
     "metadata": {},
     "output_type": "execute_result"
    }
   ],
   "source": [
    "#Sets not the same because ordering is different\n",
    "final_dpA.is_equal_to(dpA)"
   ]
  },
  {
   "cell_type": "code",
   "execution_count": 15,
   "id": "a2147ea9",
   "metadata": {},
   "outputs": [
    {
     "name": "stdout",
     "output_type": "stream",
     "text": [
      "True\n"
     ]
    }
   ],
   "source": [
    "#Sets contain the same amount of particles. \n",
    "print(final_dpA.size()==dpA.size())"
   ]
  },
  {
   "cell_type": "code",
   "execution_count": 16,
   "id": "9fbcbe95",
   "metadata": {},
   "outputs": [
    {
     "name": "stdout",
     "output_type": "stream",
     "text": [
      "r: 0\n",
      "s: 20000\n",
      "Final: 8893 muon pairs\n",
      "Ratio: 0.44465\n",
      "Analyze time: --- 9.26668405532837 seconds ---\n"
     ]
    }
   ],
   "source": [
    "final_dpB, final_muB, final_amuB, final_cutB, final_evt_cutB = ana.get_cms_eff(sigma, dpB, muB, amuB, tracksB, jetsB, cuts)"
   ]
  },
  {
   "cell_type": "code",
   "execution_count": 17,
   "id": "2b8ba0ce",
   "metadata": {},
   "outputs": [
    {
     "name": "stdout",
     "output_type": "stream",
     "text": [
      "r: 0\n",
      "s: 20000\n",
      "Final: 7997 muon pairs\n",
      "Ratio: 0.39985\n",
      "Analyze time: --- 9.020843505859375 seconds ---\n"
     ]
    }
   ],
   "source": [
    "final_dpC, final_muC, final_amuC, final_cutC, final_evt_cutC = ana.get_cms_eff(sigma, dpC, muC, amuC, tracksC, jetsC, cuts)"
   ]
  },
  {
   "cell_type": "code",
   "execution_count": 18,
   "id": "1bde8c1d",
   "metadata": {},
   "outputs": [
    {
     "name": "stdout",
     "output_type": "stream",
     "text": [
      "r: 0\n",
      "s: 2088\n",
      "Final: 1137 muon pairs\n",
      "Ratio: 0.5445402298850575\n",
      "Analyze time: --- 7.899407863616943 seconds ---\n"
     ]
    }
   ],
   "source": [
    "final_dpD, final_muD, final_amuD, final_cutD, final_evt_cutD = ana.get_cms_eff(sigma, dpD, muD, amuD, tracksD, jetsD, cuts)"
   ]
  },
  {
   "cell_type": "code",
   "execution_count": 19,
   "id": "e23084f6",
   "metadata": {},
   "outputs": [
    {
     "name": "stdout",
     "output_type": "stream",
     "text": [
      "r: 0\n",
      "s: 3228\n",
      "Final: 2114 muon pairs\n",
      "Ratio: 0.6548946716232962\n",
      "Analyze time: --- 13.176629066467285 seconds ---\n"
     ]
    }
   ],
   "source": [
    "final_dpE, final_muE, final_amuE, final_cutE, final_evt_cutE = ana.get_cms_eff(sigma, dpE, muE, amuE, tracksE, jetsE, cuts)"
   ]
  },
  {
   "cell_type": "markdown",
   "id": "918550d9",
   "metadata": {},
   "source": [
    "Plot creation below"
   ]
  },
  {
   "cell_type": "code",
   "execution_count": 20,
   "id": "d79f26be",
   "metadata": {},
   "outputs": [],
   "source": [
    "labelA = 'H->ZdZd_m:2-ct:100'\n",
    "labelB = 'H->ZdZd_m:8-ct:10'\n",
    "labelC = 'H->ZdZd_m:15-ct:1'\n",
    "labelD = 'B->phi_m:0.5-ct:1'\n",
    "labelE = 'B->phi_m:2-ct:10'"
   ]
  },
  {
   "cell_type": "code",
   "execution_count": 21,
   "id": "dc99d5fd",
   "metadata": {},
   "outputs": [],
   "source": [
    "dimuon_pTA = phys.comb_pT(final_muA.get(final_cutA), final_amuA.get(final_cutA))\n",
    "dimuon_pTB = phys.comb_pT(final_muB.get(final_cutB), final_amuB.get(final_cutB))\n",
    "dimuon_pTC = phys.comb_pT(final_muC.get(final_cutC), final_amuC.get(final_cutC))\n",
    "dimuon_pTD = phys.comb_pT(final_muD.get(final_cutD), final_amuD.get(final_cutD))\n",
    "dimuon_pTE = phys.comb_pT(final_muE.get(final_cutE), final_amuE.get(final_cutE))"
   ]
  },
  {
   "cell_type": "code",
   "execution_count": 22,
   "id": "7083ee4f",
   "metadata": {},
   "outputs": [],
   "source": [
    "#Plot settings\n",
    "hs = 'step'\n",
    "lw = 1.5\n",
    "nbins = 50\n",
    "rng = (0, 100.)\n",
    "dns = True"
   ]
  },
  {
   "cell_type": "code",
   "execution_count": 23,
   "id": "aef61829",
   "metadata": {},
   "outputs": [
    {
     "data": {
      "image/png": "[encoded data removed]",
      "text/plain": [
       "<Figure size 576x432 with 1 Axes>"
      ]
     },
     "metadata": {
      "needs_background": "light"
     },
     "output_type": "display_data"
    }
   ],
   "source": [
    "fig = plt.figure(figsize=(8,6))\n",
    "plt.ylim((0,0.2))\n",
    "plt.hist(dimuon_pTA, histtype=hs, linewidth=lw, bins=nbins, range=rng, density=dns, color='purple', label=labelA)\n",
    "plt.hist(dimuon_pTB, histtype=hs, linewidth=lw, bins=nbins, range=rng, density=dns, color='red', label=labelB)\n",
    "plt.hist(dimuon_pTC, histtype=hs, linewidth=lw, bins=nbins, range=rng, density=dns, color='brown', label=labelC)\n",
    "plt.hist(dimuon_pTD, histtype=hs, linewidth=lw, bins=nbins, range=rng, density=dns, color='blue', label=labelD)\n",
    "plt.hist(dimuon_pTE, histtype=hs, linewidth=lw, bins=nbins, range=rng, density=dns, color='orange', label=labelE)\n",
    "plt.legend()\n",
    "plt.show()\n",
    "fig.savefig(\"../images/add_fig_1.png\")"
   ]
  },
  {
   "cell_type": "code",
   "execution_count": 24,
   "id": "7aa7f4ee",
   "metadata": {},
   "outputs": [
    {
     "name": "stdout",
     "output_type": "stream",
     "text": [
      "Cut choices\n",
      "True:trig\n",
      "True:lxy_cut\n",
      "True:iso_cut\n",
      "True:dphi_muonsDV_cut\n",
      "True:dphi_muons_cut\n",
      "True:pileup_cut\n",
      "True:dxy_cut\n"
     ]
    }
   ],
   "source": [
    "#Cut selections printed beneath plot -- just to be certain.\n",
    "ana.print_cut_selection(cuts)"
   ]
  },
  {
   "cell_type": "markdown",
   "id": "fe5a33de",
   "metadata": {},
   "source": [
    "## Figure 2 \n",
    "Distribution of $\\Delta(\\mu\\mu, \\vec{DV})$ for data events and illustrative benchmark signal models, after applying the trigger selections and muon and DV quality criteria. "
   ]
  },
  {
   "cell_type": "code",
   "execution_count": 25,
   "id": "c029aad5",
   "metadata": {},
   "outputs": [],
   "source": [
    "#Since quality criteria were not included in our analysis, the\n",
    "#only cut comes from trigger selections. \n",
    "cuts = np.array([True, False, False, False, False, False, False])"
   ]
  },
  {
   "cell_type": "code",
   "execution_count": 26,
   "id": "02ace064",
   "metadata": {},
   "outputs": [
    {
     "name": "stdout",
     "output_type": "stream",
     "text": [
      "r: 0\n",
      "s: 20000\n",
      "Final: 14055 muon pairs\n",
      "Ratio: 0.70275\n",
      "Analyze time: --- 0.03430891036987305 seconds ---\n"
     ]
    }
   ],
   "source": [
    "final_dpA, final_muA, final_amuA, final_cutA, final_evt_cutA = ana.get_cms_eff(sigma, dpA, muA, amuA, tracksA, jetsA, cuts)"
   ]
  },
  {
   "cell_type": "code",
   "execution_count": 27,
   "id": "7c00116f",
   "metadata": {},
   "outputs": [
    {
     "name": "stdout",
     "output_type": "stream",
     "text": [
      "r: 0\n",
      "s: 20000\n",
      "Final: 13628 muon pairs\n",
      "Ratio: 0.6814\n",
      "Analyze time: --- 0.03244161605834961 seconds ---\n"
     ]
    }
   ],
   "source": [
    "final_dpB, final_muB, final_amuB, final_cutB, final_evt_cutB = ana.get_cms_eff(sigma, dpB, muB, amuB, tracksB, jetsB, cuts)"
   ]
  },
  {
   "cell_type": "code",
   "execution_count": 28,
   "id": "292fe07e",
   "metadata": {},
   "outputs": [
    {
     "name": "stdout",
     "output_type": "stream",
     "text": [
      "r: 0\n",
      "s: 20000\n",
      "Final: 12916 muon pairs\n",
      "Ratio: 0.6458\n",
      "Analyze time: --- 0.025500059127807617 seconds ---\n"
     ]
    }
   ],
   "source": [
    "final_dpC, final_muC, final_amuC, final_cutC, final_evt_cutC = ana.get_cms_eff(sigma, dpC, muC, amuC, tracksC, jetsC, cuts)"
   ]
  },
  {
   "cell_type": "code",
   "execution_count": 29,
   "id": "d3ca0cf1",
   "metadata": {},
   "outputs": [
    {
     "name": "stdout",
     "output_type": "stream",
     "text": [
      "r: 0\n",
      "s: 2088\n",
      "Final: 2088 muon pairs\n",
      "Ratio: 1.0\n",
      "Analyze time: --- 0.00641942024230957 seconds ---\n"
     ]
    }
   ],
   "source": [
    "#Note: Just the trigger selections remove the vast majority of the B model\n",
    "final_dpD, final_muD, final_amuD, final_cutD, final_evt_cutD = ana.get_cms_eff(sigma, dpD, muD, amuD, tracksD, jetsD, cuts)"
   ]
  },
  {
   "cell_type": "code",
   "execution_count": 30,
   "id": "9393e908",
   "metadata": {},
   "outputs": [
    {
     "name": "stdout",
     "output_type": "stream",
     "text": [
      "r: 0\n",
      "s: 3228\n",
      "Final: 3228 muon pairs\n",
      "Ratio: 1.0\n",
      "Analyze time: --- 0.007807016372680664 seconds ---\n"
     ]
    }
   ],
   "source": [
    "final_dpE, final_muE, final_amuE, final_cutE, final_evt_cutE = ana.get_cms_eff(sigma, dpE, muE, amuE, tracksE, jetsE, cuts)"
   ]
  },
  {
   "cell_type": "code",
   "execution_count": 31,
   "id": "628438d3",
   "metadata": {},
   "outputs": [],
   "source": [
    "#The figure recreated had also the specification that \n",
    "#1.0 cm < lxy < 11.0 cm. Thus, this was applied to all cuts.\n",
    "final_cutA = final_cutA & (phys.lxy(final_muA) > 10.) & (phys.lxy(final_muA) < 110.)\n",
    "final_cutB = final_cutB & (phys.lxy(final_muB) > 10.) & (phys.lxy(final_muB) < 110.)\n",
    "final_cutC = final_cutC & (phys.lxy(final_muC) > 10.) & (phys.lxy(final_muC) < 110.)\n",
    "final_cutD = final_cutD & (phys.lxy(final_muD) > 10.) & (phys.lxy(final_muD) < 110.)\n",
    "final_cutE = final_cutE & (phys.lxy(final_muE) > 10.) & (phys.lxy(final_muE) < 110.)"
   ]
  },
  {
   "cell_type": "code",
   "execution_count": 32,
   "id": "a0e8c042",
   "metadata": {},
   "outputs": [],
   "source": [
    "#Deep copy is necessary here because otherwise function\n",
    "#changes the original array. Numpy artifact.\n",
    "\n",
    "#DV is the distance from the IP to where the muon first appeared\n",
    "DV = deepcopy(final_muA.xi)\n",
    "pmm = (final_muA.p + final_amuA.p)\n",
    "dphiA = vm.vec4_dphi(DV, pmm)\n",
    "#DV[:,3] = 0\n",
    "#pmm = (final_muA.p + final_amuA.p)\n",
    "#dphiA = vm.vec4_dphi(DV, pmm)"
   ]
  },
  {
   "cell_type": "code",
   "execution_count": 33,
   "id": "2d1ef0bb",
   "metadata": {},
   "outputs": [],
   "source": [
    "DV = deepcopy(final_muB.xi)\n",
    "#DV[:,3] = 0\n",
    "pmm = (final_muB.p + final_amuB.p)\n",
    "dphiB = vm.vec4_dphi(DV, pmm)"
   ]
  },
  {
   "cell_type": "code",
   "execution_count": 34,
   "id": "1d9ae1bb",
   "metadata": {},
   "outputs": [],
   "source": [
    "DV = deepcopy(final_muC.xi)\n",
    "#DV[:,3] = 0\n",
    "pmm = (final_muC.p + final_amuC.p)\n",
    "dphiC = vm.vec4_dphi(DV, pmm)"
   ]
  },
  {
   "cell_type": "code",
   "execution_count": 35,
   "id": "adc99f25",
   "metadata": {},
   "outputs": [],
   "source": [
    "DV = deepcopy(final_muD.xi)\n",
    "#DV[:,3] = 0\n",
    "pmm = (final_muD.p + final_amuD.p)\n",
    "dphiD = vm.vec4_dphi(DV, pmm)"
   ]
  },
  {
   "cell_type": "code",
   "execution_count": 36,
   "id": "15d42435",
   "metadata": {},
   "outputs": [],
   "source": [
    "DV = deepcopy(final_muE.xi)\n",
    "#DV[:,3] = 0\n",
    "pmm = (final_muE.p + final_amuE.p)\n",
    "dphiE = vm.vec4_dphi(DV, pmm)"
   ]
  },
  {
   "cell_type": "code",
   "execution_count": 37,
   "id": "e8b83e96",
   "metadata": {},
   "outputs": [],
   "source": [
    "hs = 'step'\n",
    "lw = 1.5\n",
    "nbins = 20\n",
    "rng = (0, 0.2)\n",
    "dns = True"
   ]
  },
  {
   "cell_type": "code",
   "execution_count": 38,
   "id": "721e84ae",
   "metadata": {},
   "outputs": [
    {
     "data": {
      "image/png": "[encoded data removed]",
      "text/plain": [
       "<Figure size 576x432 with 1 Axes>"
      ]
     },
     "metadata": {
      "needs_background": "light"
     },
     "output_type": "display_data"
    }
   ],
   "source": [
    "fig = plt.figure(figsize=(8,6))\n",
    "plt.yscale('log')\n",
    "plt.hist(dphiA[final_cutA], histtype=hs, linewidth=lw, bins=nbins, range=rng, density=dns, color=\"purple\", label=labelA)\n",
    "plt.hist(dphiB[final_cutB], histtype=hs, linewidth=lw, bins=nbins, range=rng, density=dns, color=\"red\", label=labelB)\n",
    "plt.hist(dphiC[final_cutC], histtype=hs, linewidth=lw, bins=nbins, range=rng, density=dns, color=\"brown\", label=labelC)\n",
    "plt.hist(dphiD[final_cutD], histtype=hs, linewidth=lw, bins=nbins, range=rng, density=dns, color=\"blue\", label=labelD)\n",
    "plt.hist(dphiE[final_cutE], histtype=hs, linewidth=lw, bins=nbins, range=rng, density=dns, color=\"orange\", label=labelE)\n",
    "plt.legend()\n",
    "plt.show()\n",
    "fig.savefig(\"../images/add_fig_2.png\")"
   ]
  },
  {
   "cell_type": "code",
   "execution_count": 39,
   "id": "cafdc94e",
   "metadata": {},
   "outputs": [
    {
     "name": "stdout",
     "output_type": "stream",
     "text": [
      "Cut choices\n",
      "True:trig\n",
      "False:lxy_cut\n",
      "False:iso_cut\n",
      "False:dphi_muonsDV_cut\n",
      "False:dphi_muons_cut\n",
      "False:pileup_cut\n",
      "False:dxy_cut\n"
     ]
    }
   ],
   "source": [
    "ana.print_cut_selection(cuts)"
   ]
  },
  {
   "cell_type": "markdown",
   "id": "8c67e308",
   "metadata": {},
   "source": [
    "## Figure 3\n",
    "Distribution of $log_{10}(|\\Delta\\eta_{\\mu\\mu}|/\\Delta\\phi_{\\mu\\mu}|)$ in data events and illustrative benchmark signal models. The cut value is indicated by the red vertical dashed line. All selections except those involivng muon isolation, $d_{xy}$, and number of excess hits in the pixel tracker for each muon are applied. "
   ]
  },
  {
   "cell_type": "code",
   "execution_count": 40,
   "id": "d195d3d7",
   "metadata": {},
   "outputs": [
    {
     "name": "stdout",
     "output_type": "stream",
     "text": [
      "r: 0\n",
      "s: 20000\n",
      "Final: 604 muon pairs\n",
      "Ratio: 0.0302\n",
      "Analyze time: --- 0.03315401077270508 seconds ---\n"
     ]
    }
   ],
   "source": [
    "cuts = np.array([True, True, False, True, True, False, False])\n",
    "final_dpA, final_muA, final_amuA, final_cutA, final_evt_cutA = ana.get_cms_eff(sigma, dpA, muA, amuA, jetsA, tracksA, cuts)"
   ]
  },
  {
   "cell_type": "code",
   "execution_count": 41,
   "id": "b08f4f45",
   "metadata": {},
   "outputs": [
    {
     "name": "stdout",
     "output_type": "stream",
     "text": [
      "r: 0\n",
      "s: 20000\n",
      "Final: 10509 muon pairs\n",
      "Ratio: 0.52545\n",
      "Analyze time: --- 0.029786109924316406 seconds ---\n"
     ]
    }
   ],
   "source": [
    "final_dpB, final_muB, final_amuB, final_cutB, final_evt_cutB = ana.get_cms_eff(sigma, dpB, muB, amuB, jetsB, tracksB, cuts)"
   ]
  },
  {
   "cell_type": "code",
   "execution_count": 42,
   "id": "d31516b7",
   "metadata": {},
   "outputs": [
    {
     "name": "stdout",
     "output_type": "stream",
     "text": [
      "r: 0\n",
      "s: 20000\n",
      "Final: 12915 muon pairs\n",
      "Ratio: 0.64575\n",
      "Analyze time: --- 0.030230283737182617 seconds ---\n"
     ]
    }
   ],
   "source": [
    "final_dpC, final_muC, final_amuC, final_cutC, final_evt_cutC = ana.get_cms_eff(sigma, dpC, muC, amuC, tracksC, jetsC, cuts)"
   ]
  },
  {
   "cell_type": "code",
   "execution_count": 43,
   "id": "b5c38a5f",
   "metadata": {},
   "outputs": [
    {
     "name": "stdout",
     "output_type": "stream",
     "text": [
      "r: 0\n",
      "s: 2088\n",
      "Final: 1651 muon pairs\n",
      "Ratio: 0.7907088122605364\n",
      "Analyze time: --- 0.006745338439941406 seconds ---\n"
     ]
    }
   ],
   "source": [
    "final_dpD, final_muD, final_amuD, final_cutD, final_evt_cutD = ana.get_cms_eff(sigma, dpD, muD, amuD, tracksD, jetsD, cuts)"
   ]
  },
  {
   "cell_type": "code",
   "execution_count": 44,
   "id": "05860589",
   "metadata": {},
   "outputs": [
    {
     "name": "stdout",
     "output_type": "stream",
     "text": [
      "r: 0\n",
      "s: 3228\n",
      "Final: 2335 muon pairs\n",
      "Ratio: 0.7233581164807931\n",
      "Analyze time: --- 0.008124351501464844 seconds ---\n"
     ]
    }
   ],
   "source": [
    "final_dpE, final_muE, final_amuE, final_cutE, final_evt_cutE = ana.get_cms_eff(sigma, dpE, muE, amuE, tracksD, jetsD, cuts)"
   ]
  },
  {
   "cell_type": "code",
   "execution_count": 45,
   "id": "690994d1",
   "metadata": {},
   "outputs": [],
   "source": [
    "#The figure recreated had also the specification that \n",
    "#1.0 cm < lxy < 11.0 cm. Thus, this was applied to all cuts.\n",
    "final_cutA = final_cutA & (phys.lxy(final_muA) > 10.) & (phys.lxy(final_muA) < 110.)\n",
    "final_cutB = final_cutB & (phys.lxy(final_muB) > 10.) & (phys.lxy(final_muB) < 110.)\n",
    "final_cutC = final_cutC & (phys.lxy(final_muC) > 10.) & (phys.lxy(final_muC) < 110.)\n",
    "final_cutD = final_cutD & (phys.lxy(final_muD) > 10.) & (phys.lxy(final_muD) < 110.)\n",
    "final_cutE = final_cutE & (phys.lxy(final_muE) > 10.) & (phys.lxy(final_muE) < 110.)"
   ]
  },
  {
   "cell_type": "code",
   "execution_count": 46,
   "id": "5f93b3ea",
   "metadata": {},
   "outputs": [],
   "source": [
    "pileupA = phys.pileup(final_muA, final_amuA)\n",
    "pileupB = phys.pileup(final_muB, final_amuB)\n",
    "pileupC = phys.pileup(final_muC, final_amuC)\n",
    "pileupD = phys.pileup(final_muD, final_amuD)\n",
    "pileupE = phys.pileup(final_muE, final_amuE)"
   ]
  },
  {
   "cell_type": "code",
   "execution_count": 47,
   "id": "d860016e",
   "metadata": {},
   "outputs": [],
   "source": [
    "hs = 'step'\n",
    "lw = 1.5\n",
    "nbins = 20\n",
    "rng = (0, 0.2)\n",
    "dns = True"
   ]
  },
  {
   "cell_type": "code",
   "execution_count": 48,
   "id": "465e4def",
   "metadata": {},
   "outputs": [
    {
     "data": {
      "image/png": "[encoded data removed]",
      "text/plain": [
       "<Figure size 576x432 with 1 Axes>"
      ]
     },
     "metadata": {
      "needs_background": "light"
     },
     "output_type": "display_data"
    }
   ],
   "source": [
    "fig = plt.figure(figsize=(8,6))\n",
    "plt.ylim((0,0.8))\n",
    "plt.xlim((-4.2,4.2))\n",
    "plt.hist(pileupA, histtype=hs, linewidth=lw, bins=nbins, density=dns, color=\"purple\", label=labelA)\n",
    "plt.hist(pileupB, histtype=hs, linewidth=lw, bins=nbins, density=dns, color=\"red\", label=labelB)\n",
    "plt.hist(pileupC, histtype=hs, linewidth=lw, bins=nbins, density=dns, color=\"brown\", label=labelC)\n",
    "plt.hist(pileupD, histtype=hs, linewidth=lw, bins=nbins, density=dns, color=\"blue\", label=labelD)\n",
    "plt.hist(pileupE, histtype=hs, linewidth=lw, bins=nbins, density=dns, color=\"orange\", label=labelE)\n",
    "plt.legend()\n",
    "plt.show()\n",
    "fig.savefig(\"../images/add_fig_3.png\")"
   ]
  },
  {
   "cell_type": "code",
   "execution_count": 49,
   "id": "26333daf",
   "metadata": {},
   "outputs": [
    {
     "name": "stdout",
     "output_type": "stream",
     "text": [
      "Cut choices\n",
      "True:trig\n",
      "True:lxy_cut\n",
      "False:iso_cut\n",
      "True:dphi_muonsDV_cut\n",
      "True:dphi_muons_cut\n",
      "False:pileup_cut\n",
      "False:dxy_cut\n"
     ]
    }
   ],
   "source": [
    "ana.print_cut_selection(cuts)"
   ]
  },
  {
   "cell_type": "code",
   "execution_count": null,
   "id": "c4eda52a",
   "metadata": {},
   "outputs": [],
   "source": []
  }
 ],
 "metadata": {
  "kernelspec": {
   "display_name": "Python 3",
   "language": "python",
   "name": "python3"
  },
  "language_info": {
   "codemirror_mode": {
    "name": "ipython",
    "version": 3
   },
   "file_extension": ".py",
   "mimetype": "text/x-python",
   "name": "python",
   "nbconvert_exporter": "python",
   "pygments_lexer": "ipython3",
   "version": "3.8.10"
  }
 },
 "nbformat": 4,
 "nbformat_minor": 5
}
