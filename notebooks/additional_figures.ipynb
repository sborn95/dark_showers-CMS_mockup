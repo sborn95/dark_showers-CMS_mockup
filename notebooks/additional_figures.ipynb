{
 "cells": [
  {
   "cell_type": "code",
   "execution_count": 1,
   "id": "a869916b",
   "metadata": {},
   "outputs": [],
   "source": [
    "from vhepmc_evt_parser import data_set\n",
    "import numpy as np\n",
    "import physics as phys\n",
    "import vmath as vm \n",
    "import CMS_analysis as ana\n",
    "import matplotlib\n",
    "import matplotlib.pyplot as plt\n",
    "from copy import deepcopy\n",
    "import cms_plotter as cms_plt\n",
    "import basic_plotter as bp\n",
    "import pandas as pd\n",
    "import seaborn as sns"
   ]
  },
  {
   "cell_type": "code",
   "execution_count": 2,
   "id": "eb30edfa",
   "metadata": {},
   "outputs": [
    {
     "name": "stdout",
     "output_type": "stream",
     "text": [
      "Fill saved: --- 0.004651308059692383 seconds ---\n"
     ]
    }
   ],
   "source": [
    "#Load a data set - lifetime generations are included below\n",
    "my_set = data_set()\n",
    "my_set.set_parent(parent_pid = 999999)\n",
    "my_set.set_decay_options(np.array([11,13,211]))\n",
    "#my_set.fill_custom(\"events_CMS_card-cms-m:2-ct:100_mm05.dat\")\n",
    "my_set.fill_saved(\"../data_arrays/events_CMS_card-cms-m2-ct100_mm05_set.npy\")"
   ]
  },
  {
   "cell_type": "code",
   "execution_count": 3,
   "id": "5cd0286b",
   "metadata": {},
   "outputs": [],
   "source": [
    "dpA, muA, amuA, tracksA, jetsA= ana.prep_dataset(my_set)"
   ]
  },
  {
   "cell_type": "code",
   "execution_count": 4,
   "id": "eefb740e",
   "metadata": {},
   "outputs": [
    {
     "name": "stdout",
     "output_type": "stream",
     "text": [
      "Fill saved: --- 0.005887746810913086 seconds ---\n"
     ]
    }
   ],
   "source": [
    "my_set.clear_data()\n",
    "#my_set.fill_custom(\"events_CMS_card-cms-m:8-ct:10_mm05.dat\")\n",
    "my_set.fill_saved(\"../data_arrays/events_CMS_card-cms-m8-ct10_mm05_set.npy\")\n",
    "dpB, muB, amuB, tracksB, jetsB = ana.prep_dataset(my_set)"
   ]
  },
  {
   "cell_type": "code",
   "execution_count": 5,
   "id": "e79443e1",
   "metadata": {},
   "outputs": [
    {
     "name": "stdout",
     "output_type": "stream",
     "text": [
      "Fill saved: --- 0.0050809383392333984 seconds ---\n"
     ]
    }
   ],
   "source": [
    "my_set.clear_data()\n",
    "#my_set.fill_custom(\"events_CMS_card-cms-m:15-ct:1_mm05.dat\")\n",
    "my_set.fill_saved(\"../data_arrays/events_CMS_card-cms-m15-ct1_mm05_set.npy\")\n",
    "dpC, muC, amuC, tracksC, jetsC = ana.prep_dataset(my_set)"
   ]
  },
  {
   "cell_type": "code",
   "execution_count": 6,
   "id": "6850140f",
   "metadata": {},
   "outputs": [
    {
     "name": "stdout",
     "output_type": "stream",
     "text": [
      "Fill saved: --- 0.02138543128967285 seconds ---\n"
     ]
    }
   ],
   "source": [
    "my_set.clear_data()\n",
    "#my_set.fill_custom(\"events_CMS_card-cms-m:15-ct:1_mm05.dat\")\n",
    "my_set.fill_saved(\"../data_arrays/events_B_to_LLP-mp5-ct1_mm09_full_set.npy\")\n",
    "dpD, muD, amuD, tracksD, jetsD = ana.prep_dataset(my_set)"
   ]
  },
  {
   "cell_type": "code",
   "execution_count": 7,
   "id": "cafc89c9",
   "metadata": {},
   "outputs": [
    {
     "name": "stdout",
     "output_type": "stream",
     "text": [
      "Fill saved: --- 0.030155181884765625 seconds ---\n"
     ]
    }
   ],
   "source": [
    "my_set.clear_data()\n",
    "#my_set.fill_custom(\"events_CMS_card-cms-m:15-ct:1_mm05.dat\")\n",
    "my_set.fill_saved(\"../data_arrays/events_B_to_LLP-m2-ct10_mm09_full_set.npy\")\n",
    "dpE, muE, amuE, tracksE, jetsE = ana.prep_dataset(my_set)"
   ]
  },
  {
   "cell_type": "code",
   "execution_count": 8,
   "id": "0f963eb6",
   "metadata": {},
   "outputs": [
    {
     "name": "stdout",
     "output_type": "stream",
     "text": [
      "Fill saved: --- 0.0198819637298584 seconds ---\n"
     ]
    }
   ],
   "source": [
    "my_set.clear_data()\n",
    "#my_set.fill_custom(\"events_CMS_card-cms-m:15-ct:1_mm05.dat\")\n",
    "my_set.fill_saved(\"../data_arrays/events_B_to_LLP-m4-ct100_mm09_full_set.npy\")\n",
    "dpF, muF, amuF, tracksF, jetsF = ana.prep_dataset(my_set)"
   ]
  },
  {
   "cell_type": "markdown",
   "id": "804f1efc",
   "metadata": {},
   "source": [
    "## List choices for cuts - right now the event cut (combined L1T and HLT_lxy) is automatic"
   ]
  },
  {
   "cell_type": "code",
   "execution_count": 9,
   "id": "91437b9f",
   "metadata": {},
   "outputs": [
    {
     "name": "stdout",
     "output_type": "stream",
     "text": [
      "Set filter by inputting an array of choices\n",
      "Event:0:L1T_cut\n",
      "Event:1:HLT_lxy_cut\n",
      "Pair:2:HLT_iso_cut\n",
      "Pair:3:HLT_dphi_muonsDV_cut\n",
      "Pair:4:HLT_dphi_muons_cut\n",
      "Pair:5:HLT_pileup_cut\n",
      "Pair:6:HLT_dxy_cut\n"
     ]
    }
   ],
   "source": [
    "ana.list_choices()"
   ]
  },
  {
   "cell_type": "markdown",
   "id": "61e1e120",
   "metadata": {},
   "source": [
    "## Figure 1\n",
    "Distribution of $p_T^{\\mu\\mu}$ for data events and illustrative benchmark signal models, after applying the full event selection."
   ]
  },
  {
   "cell_type": "code",
   "execution_count": 10,
   "id": "b630fa78",
   "metadata": {},
   "outputs": [],
   "source": [
    "cuts = np.array([True, True, False, True, True, True, True]) #Don't include any additional HLT cuts\n",
    "#cuts = np.array([False, False, False, False, False, False, False]) #Apply no cuts - see full distributions"
   ]
  },
  {
   "cell_type": "code",
   "execution_count": 19,
   "id": "f5a2b61c",
   "metadata": {},
   "outputs": [],
   "source": [
    "sigma = 0.1 "
   ]
  },
  {
   "cell_type": "code",
   "execution_count": 20,
   "id": "fb5ea94f",
   "metadata": {},
   "outputs": [
    {
     "name": "stdout",
     "output_type": "stream",
     "text": [
      "Final: 1054 muon pairs\n",
      "Ratio: 0.0527\n",
      "Analyze time: --- 0.06638002395629883 seconds ---\n"
     ]
    }
   ],
   "source": [
    "final_dpA, final_muA, final_amuA, final_cutA, final_evt_cutA = ana.get_cms_eff(sigma, dpA, muA, amuA, tracksA, jetsA, cuts)"
   ]
  },
  {
   "cell_type": "code",
   "execution_count": 22,
   "id": "9fbcbe95",
   "metadata": {},
   "outputs": [
    {
     "name": "stdout",
     "output_type": "stream",
     "text": [
      "Final: 13034 muon pairs\n",
      "Ratio: 0.6517\n",
      "Analyze time: --- 0.06071138381958008 seconds ---\n"
     ]
    }
   ],
   "source": [
    "final_dpB, final_muB, final_amuB, final_cutB, final_evt_cutB = ana.get_cms_eff(sigma, dpB, muB, amuB, tracksB, jetsB, cuts)"
   ]
  },
  {
   "cell_type": "code",
   "execution_count": 23,
   "id": "2b8ba0ce",
   "metadata": {},
   "outputs": [
    {
     "name": "stdout",
     "output_type": "stream",
     "text": [
      "Final: 11050 muon pairs\n",
      "Ratio: 0.5525\n",
      "Analyze time: --- 0.09647488594055176 seconds ---\n"
     ]
    }
   ],
   "source": [
    "final_dpC, final_muC, final_amuC, final_cutC, final_evt_cutC = ana.get_cms_eff(sigma, dpC, muC, amuC, tracksC, jetsC, cuts)"
   ]
  },
  {
   "cell_type": "code",
   "execution_count": 24,
   "id": "1bde8c1d",
   "metadata": {},
   "outputs": [
    {
     "name": "stdout",
     "output_type": "stream",
     "text": [
      "Final: 1147 muon pairs\n",
      "Ratio: 0.5493295019157088\n",
      "Analyze time: --- 0.008744001388549805 seconds ---\n"
     ]
    }
   ],
   "source": [
    "final_dpD, final_muD, final_amuD, final_cutD, final_evt_cutD = ana.get_cms_eff(sigma, dpD, muD, amuD, tracksD, jetsD, cuts)"
   ]
  },
  {
   "cell_type": "code",
   "execution_count": 25,
   "id": "e23084f6",
   "metadata": {},
   "outputs": [
    {
     "name": "stdout",
     "output_type": "stream",
     "text": [
      "Final: 2165 muon pairs\n",
      "Ratio: 0.6706939281288724\n",
      "Analyze time: --- 0.0197906494140625 seconds ---\n"
     ]
    }
   ],
   "source": [
    "final_dpE, final_muE, final_amuE, final_cutE, final_evt_cutE = ana.get_cms_eff(sigma, dpE, muE, amuE, tracksE, jetsE, cuts)"
   ]
  },
  {
   "cell_type": "markdown",
   "id": "b694b67d",
   "metadata": {},
   "source": [
    "Note: Figures 2, 3, 4 contain condition lxy > 1cm & lxy < 11cm"
   ]
  },
  {
   "cell_type": "code",
   "execution_count": 26,
   "id": "d79f26be",
   "metadata": {},
   "outputs": [],
   "source": [
    "labelA = 'H->ZdZd_m:2-ct:100'\n",
    "labelB = 'H->ZdZd_m:8-ct:10'\n",
    "labelC = 'H->ZdZd_m:15-ct:1'\n",
    "labelD = 'B->phi_m:0.5-ct:1'\n",
    "labelE = 'B->phi_m:2-ct:10'"
   ]
  },
  {
   "cell_type": "code",
   "execution_count": 27,
   "id": "dc99d5fd",
   "metadata": {},
   "outputs": [],
   "source": [
    "dimuon_pTA = phys.comb_pT(final_muA.get(final_cutA), final_amuA.get(final_cutA))\n",
    "dimuon_pTB = phys.comb_pT(final_muB.get(final_cutB), final_amuB.get(final_cutB))\n",
    "dimuon_pTC = phys.comb_pT(final_muC.get(final_cutC), final_amuC.get(final_cutC))\n",
    "dimuon_pTD = phys.comb_pT(final_muD.get(final_cutD), final_amuD.get(final_cutD))\n",
    "dimuon_pTE = phys.comb_pT(final_muE.get(final_cutE), final_amuE.get(final_cutE))"
   ]
  },
  {
   "cell_type": "code",
   "execution_count": 28,
   "id": "7083ee4f",
   "metadata": {},
   "outputs": [],
   "source": [
    "hs = 'step'\n",
    "lw = 1.5\n",
    "nbins = 50\n",
    "rng = (0, 100.)\n",
    "dns = True"
   ]
  },
  {
   "cell_type": "code",
   "execution_count": 29,
   "id": "aef61829",
   "metadata": {},
   "outputs": [
    {
     "data": {
      "image/png": "[encoded data removed]",
      "text/plain": [
       "<Figure size 576x432 with 1 Axes>"
      ]
     },
     "metadata": {
      "needs_background": "light"
     },
     "output_type": "display_data"
    }
   ],
   "source": [
    "fig = plt.figure(figsize=(8,6))\n",
    "plt.ylim((0,0.2))\n",
    "plt.hist(dimuon_pTA, histtype=hs, linewidth=lw, bins=nbins, range=rng, density=dns, color='purple', label=labelA)\n",
    "plt.hist(dimuon_pTB, histtype=hs, linewidth=lw, bins=nbins, range=rng, density=dns, color='red', label=labelB)\n",
    "plt.hist(dimuon_pTC, histtype=hs, linewidth=lw, bins=nbins, range=rng, density=dns, color='brown', label=labelC)\n",
    "plt.hist(dimuon_pTD, histtype=hs, linewidth=lw, bins=nbins, range=rng, density=dns, color='blue', label=labelD)\n",
    "plt.hist(dimuon_pTE, histtype=hs, linewidth=lw, bins=nbins, range=rng, density=dns, color='orange', label=labelE)\n",
    "plt.legend()\n",
    "plt.show()\n",
    "fig.savefig(\"../images/add_fig_1.png\")"
   ]
  },
  {
   "cell_type": "code",
   "execution_count": 30,
   "id": "7aa7f4ee",
   "metadata": {},
   "outputs": [
    {
     "name": "stdout",
     "output_type": "stream",
     "text": [
      "Cut choices\n",
      "True:L1T_cut\n",
      "True:HLT_lxy_cut\n",
      "False:HLT_iso_cut\n",
      "True:HLT_dphi_muonsDV_cut\n",
      "True:HLT_dphi_muons_cut\n",
      "True:HLT_pileup_cut\n",
      "True:HLT_dxy_cut\n"
     ]
    }
   ],
   "source": [
    "ana.print_cut_selection(cuts)"
   ]
  },
  {
   "cell_type": "markdown",
   "id": "fe5a33de",
   "metadata": {},
   "source": [
    "## Figure 2 \n",
    "Distribution of $\\Delta(\\mu\\mu, \\vec{DV})$ for data events and illustrative benchmark signal models, after applying the trigger selections and muon and DV quality criteria. "
   ]
  },
  {
   "cell_type": "code",
   "execution_count": 31,
   "id": "c029aad5",
   "metadata": {},
   "outputs": [],
   "source": [
    "cuts = np.array([True, False, False, False, False, False, False]) #Don't include any additional HLT cuts"
   ]
  },
  {
   "cell_type": "code",
   "execution_count": 34,
   "id": "02ace064",
   "metadata": {},
   "outputs": [
    {
     "name": "stdout",
     "output_type": "stream",
     "text": [
      "Final: 17692 muon pairs\n",
      "Ratio: 0.8846\n",
      "Analyze time: --- 0.06743979454040527 seconds ---\n"
     ]
    }
   ],
   "source": [
    "final_dpA, final_muA, final_amuA, final_cutA, final_evt_cutA = ana.get_cms_eff(sigma, dpA, muA, amuA, tracksA, jetsA, cuts)"
   ]
  },
  {
   "cell_type": "code",
   "execution_count": 35,
   "id": "7c00116f",
   "metadata": {},
   "outputs": [
    {
     "name": "stdout",
     "output_type": "stream",
     "text": [
      "Final: 17370 muon pairs\n",
      "Ratio: 0.8685\n",
      "Analyze time: --- 0.060971975326538086 seconds ---\n"
     ]
    }
   ],
   "source": [
    "final_dpB, final_muB, final_amuB, final_cutB, final_evt_cutB = ana.get_cms_eff(sigma, dpB, muB, amuB, tracksB, jetsB, cuts)"
   ]
  },
  {
   "cell_type": "code",
   "execution_count": 36,
   "id": "292fe07e",
   "metadata": {},
   "outputs": [
    {
     "name": "stdout",
     "output_type": "stream",
     "text": [
      "Final: 16730 muon pairs\n",
      "Ratio: 0.8365\n",
      "Analyze time: --- 0.0599367618560791 seconds ---\n"
     ]
    }
   ],
   "source": [
    "final_dpC, final_muC, final_amuC, final_cutC, final_evt_cutC = ana.get_cms_eff(sigma, dpC, muC, amuC, tracksC, jetsC, cuts)"
   ]
  },
  {
   "cell_type": "code",
   "execution_count": 37,
   "id": "d3ca0cf1",
   "metadata": {},
   "outputs": [
    {
     "name": "stdout",
     "output_type": "stream",
     "text": [
      "Final: 2088 muon pairs\n",
      "Ratio: 1.0\n",
      "Analyze time: --- 0.006824016571044922 seconds ---\n"
     ]
    }
   ],
   "source": [
    "#Note: Just the trigger selections remove the vast majority of the B model\n",
    "final_dpD, final_muD, final_amuD, final_cutD, final_evt_cutD = ana.get_cms_eff(sigma, dpD, muD, amuD, tracksD, jetsD, cuts)"
   ]
  },
  {
   "cell_type": "code",
   "execution_count": 38,
   "id": "9393e908",
   "metadata": {},
   "outputs": [
    {
     "name": "stdout",
     "output_type": "stream",
     "text": [
      "Final: 3228 muon pairs\n",
      "Ratio: 1.0\n",
      "Analyze time: --- 0.007715463638305664 seconds ---\n"
     ]
    }
   ],
   "source": [
    "final_dpE, final_muE, final_amuE, final_cutE, final_evt_cutE = ana.get_cms_eff(sigma, dpE, muE, amuE, tracksE, jetsE, cuts)"
   ]
  },
  {
   "cell_type": "code",
   "execution_count": 39,
   "id": "628438d3",
   "metadata": {},
   "outputs": [],
   "source": [
    "final_cutA = final_cutA & (phys.lxy(final_muA) > 10.) & (phys.lxy(final_muA) < 110.)\n",
    "final_cutB = final_cutB & (phys.lxy(final_muB) > 10.) & (phys.lxy(final_muB) < 110.)\n",
    "final_cutC = final_cutC & (phys.lxy(final_muC) > 10.) & (phys.lxy(final_muC) < 110.)\n",
    "final_cutD = final_cutD & (phys.lxy(final_muD) > 10.) & (phys.lxy(final_muD) < 110.)\n",
    "final_cutE = final_cutE & (phys.lxy(final_muE) > 10.) & (phys.lxy(final_muE) < 110.)"
   ]
  },
  {
   "cell_type": "code",
   "execution_count": 40,
   "id": "a0e8c042",
   "metadata": {},
   "outputs": [],
   "source": [
    "DV = deepcopy(final_muA.xi)\n",
    "DV[:,3] = 0\n",
    "pmm = (final_muA.p + final_amuA.p)\n",
    "dphiA = vm.vec4_dphi(DV, pmm)"
   ]
  },
  {
   "cell_type": "code",
   "execution_count": 41,
   "id": "2d1ef0bb",
   "metadata": {},
   "outputs": [],
   "source": [
    "DV = deepcopy(final_muB.xi)\n",
    "DV[:,3] = 0\n",
    "pmm = (final_muB.p + final_amuB.p)\n",
    "dphiB = vm.vec4_dphi(DV, pmm)"
   ]
  },
  {
   "cell_type": "code",
   "execution_count": 42,
   "id": "1d9ae1bb",
   "metadata": {},
   "outputs": [],
   "source": [
    "DV = deepcopy(final_muC.xi)\n",
    "DV[:,3] = 0\n",
    "pmm = (final_muC.p + final_amuC.p)\n",
    "dphiC = vm.vec4_dphi(DV, pmm)"
   ]
  },
  {
   "cell_type": "code",
   "execution_count": 43,
   "id": "adc99f25",
   "metadata": {},
   "outputs": [],
   "source": [
    "DV = deepcopy(final_muD.xi)\n",
    "DV[:,3] = 0\n",
    "pmm = (final_muD.p + final_amuD.p)\n",
    "dphiD = vm.vec4_dphi(DV, pmm)"
   ]
  },
  {
   "cell_type": "code",
   "execution_count": 44,
   "id": "15d42435",
   "metadata": {},
   "outputs": [],
   "source": [
    "DV = deepcopy(final_muE.xi)\n",
    "DV[:,3] = 0\n",
    "pmm = (final_muE.p + final_amuE.p)\n",
    "dphiE = vm.vec4_dphi(DV, pmm)"
   ]
  },
  {
   "cell_type": "code",
   "execution_count": 45,
   "id": "e8b83e96",
   "metadata": {},
   "outputs": [],
   "source": [
    "hs = 'step'\n",
    "lw = 1.5\n",
    "nbins = 20\n",
    "rng = (0, 0.2)\n",
    "dns = True"
   ]
  },
  {
   "cell_type": "code",
   "execution_count": 46,
   "id": "721e84ae",
   "metadata": {},
   "outputs": [
    {
     "data": {
      "image/png": "[encoded data removed]",
      "text/plain": [
       "<Figure size 576x432 with 1 Axes>"
      ]
     },
     "metadata": {
      "needs_background": "light"
     },
     "output_type": "display_data"
    }
   ],
   "source": [
    "fig = plt.figure(figsize=(8,6))\n",
    "plt.yscale('log')\n",
    "plt.hist(dphiA[final_cutA], histtype=hs, linewidth=lw, bins=nbins, range=rng, density=dns, color=\"purple\", label=labelA)\n",
    "plt.hist(dphiB[final_cutB], histtype=hs, linewidth=lw, bins=nbins, range=rng, density=dns, color=\"red\", label=labelB)\n",
    "plt.hist(dphiC[final_cutC], histtype=hs, linewidth=lw, bins=nbins, range=rng, density=dns, color=\"brown\", label=labelC)\n",
    "plt.hist(dphiD[final_cutD], histtype=hs, linewidth=lw, bins=nbins, range=rng, density=dns, color=\"blue\", label=labelD)\n",
    "plt.hist(dphiE[final_cutE], histtype=hs, linewidth=lw, bins=nbins, range=rng, density=dns, color=\"orange\", label=labelE)\n",
    "plt.legend()\n",
    "plt.show()\n",
    "fig.savefig(\"../images/add_fig_2.png\")"
   ]
  },
  {
   "cell_type": "code",
   "execution_count": 47,
   "id": "cafdc94e",
   "metadata": {},
   "outputs": [
    {
     "name": "stdout",
     "output_type": "stream",
     "text": [
      "Cut choices\n",
      "True:L1T_cut\n",
      "False:HLT_lxy_cut\n",
      "False:HLT_iso_cut\n",
      "False:HLT_dphi_muonsDV_cut\n",
      "False:HLT_dphi_muons_cut\n",
      "False:HLT_pileup_cut\n",
      "False:HLT_dxy_cut\n"
     ]
    }
   ],
   "source": [
    "ana.print_cut_selection(cuts)"
   ]
  },
  {
   "cell_type": "markdown",
   "id": "8c67e308",
   "metadata": {},
   "source": [
    "## Figure 3\n",
    "Distribution of $log_{10}(|\\Delta\\eta_{\\mu\\mu}|/\\Delta\\phi_{\\mu\\mu}|)$ in data events and illustrative benchmark signal models. The cut value is indicated by the red vertical dashed line. All selections except those involivng muon isolation, $d_{xy}$, and number of excess hits in the pixel tracker for each muon are applied. "
   ]
  },
  {
   "cell_type": "code",
   "execution_count": 48,
   "id": "d195d3d7",
   "metadata": {},
   "outputs": [
    {
     "name": "stdout",
     "output_type": "stream",
     "text": [
      "Final: 1198 muon pairs\n",
      "Ratio: 0.0599\n",
      "Analyze time: --- 0.06850290298461914 seconds ---\n"
     ]
    }
   ],
   "source": [
    "cuts = np.array([True, True, False, True, True, False, False])\n",
    "final_dpA, final_muA, final_amuA, final_cutA, final_evt_cutA = ana.get_cms_eff(sigma, dpA, muA, amuA, jetsA, tracksA, cuts)"
   ]
  },
  {
   "cell_type": "code",
   "execution_count": 49,
   "id": "b08f4f45",
   "metadata": {},
   "outputs": [
    {
     "name": "stdout",
     "output_type": "stream",
     "text": [
      "Final: 15219 muon pairs\n",
      "Ratio: 0.76095\n",
      "Analyze time: --- 0.0796351432800293 seconds ---\n"
     ]
    }
   ],
   "source": [
    "final_dpB, final_muB, final_amuB, final_cutB, final_evt_cutB = ana.get_cms_eff(sigma, dpB, muB, amuB, jetsB, tracksB, cuts)"
   ]
  },
  {
   "cell_type": "code",
   "execution_count": 50,
   "id": "d31516b7",
   "metadata": {},
   "outputs": [
    {
     "name": "stdout",
     "output_type": "stream",
     "text": [
      "Final: 16557 muon pairs\n",
      "Ratio: 0.82785\n",
      "Analyze time: --- 0.06248831748962402 seconds ---\n"
     ]
    }
   ],
   "source": [
    "final_dpC, final_muC, final_amuC, final_cutC, final_evt_cutC = ana.get_cms_eff(sigma, dpC, muC, amuC, tracksC, jetsC, cuts)"
   ]
  },
  {
   "cell_type": "code",
   "execution_count": 51,
   "id": "b5c38a5f",
   "metadata": {},
   "outputs": [
    {
     "name": "stdout",
     "output_type": "stream",
     "text": [
      "Final: 1641 muon pairs\n",
      "Ratio: 0.7859195402298851\n",
      "Analyze time: --- 0.008352518081665039 seconds ---\n"
     ]
    }
   ],
   "source": [
    "final_dpD, final_muD, final_amuD, final_cutD, final_evt_cutD = ana.get_cms_eff(sigma, dpD, muD, amuD, tracksD, jetsD, cuts)"
   ]
  },
  {
   "cell_type": "code",
   "execution_count": 52,
   "id": "05860589",
   "metadata": {},
   "outputs": [
    {
     "name": "stdout",
     "output_type": "stream",
     "text": [
      "Final: 2376 muon pairs\n",
      "Ratio: 0.7360594795539034\n",
      "Analyze time: --- 0.010111570358276367 seconds ---\n"
     ]
    }
   ],
   "source": [
    "final_dpE, final_muE, final_amuE, final_cutE, final_evt_cutE = ana.get_cms_eff(sigma, dpE, muE, amuE, tracksD, jetsD, cuts)"
   ]
  },
  {
   "cell_type": "code",
   "execution_count": 53,
   "id": "690994d1",
   "metadata": {},
   "outputs": [],
   "source": [
    "final_cutA = final_cutA & (phys.lxy(final_muA) > 10.) & (phys.lxy(final_muA) < 110.)\n",
    "final_cutB = final_cutB & (phys.lxy(final_muB) > 10.) & (phys.lxy(final_muB) < 110.)\n",
    "final_cutC = final_cutC & (phys.lxy(final_muC) > 10.) & (phys.lxy(final_muC) < 110.)\n",
    "final_cutD = final_cutD & (phys.lxy(final_muD) > 10.) & (phys.lxy(final_muD) < 110.)\n",
    "final_cutE = final_cutE & (phys.lxy(final_muE) > 10.) & (phys.lxy(final_muE) < 110.)"
   ]
  },
  {
   "cell_type": "code",
   "execution_count": 54,
   "id": "5f93b3ea",
   "metadata": {},
   "outputs": [],
   "source": [
    "pileupA = phys.pileup(final_muA, final_amuA)\n",
    "pileupB = phys.pileup(final_muB, final_amuB)\n",
    "pileupC = phys.pileup(final_muC, final_amuC)\n",
    "pileupD = phys.pileup(final_muD, final_amuD)\n",
    "pileupE = phys.pileup(final_muE, final_amuE)"
   ]
  },
  {
   "cell_type": "code",
   "execution_count": 55,
   "id": "d860016e",
   "metadata": {},
   "outputs": [],
   "source": [
    "hs = 'step'\n",
    "lw = 1.5\n",
    "nbins = 20\n",
    "rng = (0, 0.2)\n",
    "dns = True"
   ]
  },
  {
   "cell_type": "code",
   "execution_count": 56,
   "id": "465e4def",
   "metadata": {},
   "outputs": [
    {
     "data": {
      "image/png": "[encoded data removed]",
      "text/plain": [
       "<Figure size 576x432 with 1 Axes>"
      ]
     },
     "metadata": {
      "needs_background": "light"
     },
     "output_type": "display_data"
    }
   ],
   "source": [
    "fig = plt.figure(figsize=(8,6))\n",
    "plt.ylim((0,0.8))\n",
    "plt.xlim((-4.2,4.2))\n",
    "plt.hist(pileupA, histtype=hs, linewidth=lw, bins=nbins, density=dns, color=\"purple\", label=labelA)\n",
    "plt.hist(pileupB, histtype=hs, linewidth=lw, bins=nbins, density=dns, color=\"red\", label=labelB)\n",
    "plt.hist(pileupC, histtype=hs, linewidth=lw, bins=nbins, density=dns, color=\"brown\", label=labelC)\n",
    "plt.hist(pileupD, histtype=hs, linewidth=lw, bins=nbins, density=dns, color=\"blue\", label=labelD)\n",
    "plt.hist(pileupE, histtype=hs, linewidth=lw, bins=nbins, density=dns, color=\"orange\", label=labelE)\n",
    "plt.legend()\n",
    "plt.show()\n",
    "fig.savefig(\"../images/add_fig_3.png\")"
   ]
  },
  {
   "cell_type": "code",
   "execution_count": 57,
   "id": "26333daf",
   "metadata": {},
   "outputs": [
    {
     "name": "stdout",
     "output_type": "stream",
     "text": [
      "Cut choices\n",
      "True:L1T_cut\n",
      "True:HLT_lxy_cut\n",
      "False:HLT_iso_cut\n",
      "True:HLT_dphi_muonsDV_cut\n",
      "True:HLT_dphi_muons_cut\n",
      "False:HLT_pileup_cut\n",
      "False:HLT_dxy_cut\n"
     ]
    }
   ],
   "source": [
    "ana.print_cut_selection(cuts)"
   ]
  },
  {
   "cell_type": "code",
   "execution_count": null,
   "id": "c71d3193",
   "metadata": {},
   "outputs": [],
   "source": []
  }
 ],
 "metadata": {
  "kernelspec": {
   "display_name": "Python 3",
   "language": "python",
   "name": "python3"
  },
  "language_info": {
   "codemirror_mode": {
    "name": "ipython",
    "version": 3
   },
   "file_extension": ".py",
   "mimetype": "text/x-python",
   "name": "python",
   "nbconvert_exporter": "python",
   "pygments_lexer": "ipython3",
   "version": "3.8.10"
  }
 },
 "nbformat": 4,
 "nbformat_minor": 5
}
