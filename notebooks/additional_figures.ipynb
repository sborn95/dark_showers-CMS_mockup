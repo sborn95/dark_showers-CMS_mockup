{
 "cells": [
  {
   "cell_type": "code",
   "execution_count": 48,
   "id": "a869916b",
   "metadata": {},
   "outputs": [],
   "source": [
    "from vhepmc_evt_parser import data_set\n",
    "import numpy as np\n",
    "import physics as phys\n",
    "import vmath as vm \n",
    "import CMS_analysis as ana\n",
    "import matplotlib\n",
    "import matplotlib.pyplot as plt\n",
    "from copy import deepcopy\n",
    "import cms_plotter as cms_plt\n",
    "import basic_plotter as bp\n",
    "import pandas as pd\n",
    "import seaborn as sns"
   ]
  },
  {
   "cell_type": "code",
   "execution_count": 49,
   "id": "eb30edfa",
   "metadata": {},
   "outputs": [
    {
     "name": "stdout",
     "output_type": "stream",
     "text": [
      "Fill saved: --- 0.0031213760375976562 seconds ---\n"
     ]
    }
   ],
   "source": [
    "#Load a data set - lifetime generations are included below\n",
    "my_set = data_set()\n",
    "my_set.set_parent(parent_pid = 999999)\n",
    "my_set.set_decay_options(np.array([11,13,211]))\n",
    "#my_set.fill_custom(\"events_CMS_card-cms-m:2-ct:100_mm05.dat\")\n",
    "my_set.fill_saved(\"../data_arrays/events_CMS_card-cms-m:2-ct:100_mm05_set.npy\")"
   ]
  },
  {
   "cell_type": "code",
   "execution_count": 50,
   "id": "5cd0286b",
   "metadata": {},
   "outputs": [],
   "source": [
    "dpA, muA, amuA, tracksA, jetsA= ana.prep_dataset(my_set)"
   ]
  },
  {
   "cell_type": "code",
   "execution_count": 51,
   "id": "eefb740e",
   "metadata": {},
   "outputs": [
    {
     "name": "stdout",
     "output_type": "stream",
     "text": [
      "Fill saved: --- 0.0034554004669189453 seconds ---\n"
     ]
    }
   ],
   "source": [
    "my_set.clear_data()\n",
    "#my_set.fill_custom(\"events_CMS_card-cms-m:8-ct:10_mm05.dat\")\n",
    "my_set.fill_saved(\"../data_arrays/events_CMS_card-cms-m:8-ct:10_mm05_set.npy\")\n",
    "dpB, muB, amuB, tracksB, jetsB = ana.prep_dataset(my_set)"
   ]
  },
  {
   "cell_type": "code",
   "execution_count": 52,
   "id": "e79443e1",
   "metadata": {},
   "outputs": [
    {
     "name": "stdout",
     "output_type": "stream",
     "text": [
      "Fill saved: --- 0.002383708953857422 seconds ---\n"
     ]
    }
   ],
   "source": [
    "my_set.clear_data()\n",
    "#my_set.fill_custom(\"events_CMS_card-cms-m:15-ct:1_mm05.dat\")\n",
    "my_set.fill_saved(\"../data_arrays/events_CMS_card-cms-m:15-ct:1_mm05_set.npy\")\n",
    "dpC, muC, amuC, tracksC, jetsC = ana.prep_dataset(my_set)"
   ]
  },
  {
   "cell_type": "code",
   "execution_count": 53,
   "id": "6850140f",
   "metadata": {},
   "outputs": [
    {
     "name": "stdout",
     "output_type": "stream",
     "text": [
      "Fill saved: --- 0.013498067855834961 seconds ---\n"
     ]
    }
   ],
   "source": [
    "my_set.clear_data()\n",
    "#my_set.fill_custom(\"events_CMS_card-cms-m:15-ct:1_mm05.dat\")\n",
    "my_set.fill_saved(\"../data_arrays/events_B_to_LLP-m:p5-ct:1_mm09_full_set.npy\")\n",
    "dpD, muD, amuD, tracksD, jetsD = ana.prep_dataset(my_set)"
   ]
  },
  {
   "cell_type": "code",
   "execution_count": 54,
   "id": "cafc89c9",
   "metadata": {},
   "outputs": [
    {
     "name": "stdout",
     "output_type": "stream",
     "text": [
      "Fill saved: --- 0.021462440490722656 seconds ---\n"
     ]
    }
   ],
   "source": [
    "my_set.clear_data()\n",
    "#my_set.fill_custom(\"events_CMS_card-cms-m:15-ct:1_mm05.dat\")\n",
    "my_set.fill_saved(\"../data_arrays/events_B_to_LLP-m:2-ct:10_mm09_full_set.npy\")\n",
    "dpE, muE, amuE, tracksE, jetsE = ana.prep_dataset(my_set)"
   ]
  },
  {
   "cell_type": "code",
   "execution_count": 55,
   "id": "0f963eb6",
   "metadata": {},
   "outputs": [
    {
     "name": "stdout",
     "output_type": "stream",
     "text": [
      "Fill saved: --- 0.01378321647644043 seconds ---\n"
     ]
    }
   ],
   "source": [
    "my_set.clear_data()\n",
    "#my_set.fill_custom(\"events_CMS_card-cms-m:15-ct:1_mm05.dat\")\n",
    "my_set.fill_saved(\"../data_arrays/events_B_to_LLP-m:4-ct:100_mm09_full_set.npy\")\n",
    "dpF, muF, amuF, tracksF, jetsF = ana.prep_dataset(my_set)"
   ]
  },
  {
   "cell_type": "markdown",
   "id": "804f1efc",
   "metadata": {},
   "source": [
    "## List choices for cuts - right now the event cut (combined L1T and HLT_lxy) is automatic"
   ]
  },
  {
   "cell_type": "code",
   "execution_count": 56,
   "id": "91437b9f",
   "metadata": {},
   "outputs": [
    {
     "name": "stdout",
     "output_type": "stream",
     "text": [
      "Set filter by inputting an array of choices\n",
      "Event:0:L1T_cut\n",
      "Event:1:HLT_lxy_cut\n",
      "Pair:2:HLT_iso_cut\n",
      "Pair:3:HLT_dphi_muonsDV_cut\n",
      "Pair:4:HLT_dphi_muons_cut\n",
      "Pair:5:HLT_pileup_cut\n",
      "Pair:6:HLT_dxy_cut\n"
     ]
    }
   ],
   "source": [
    "ana.list_choices()"
   ]
  },
  {
   "cell_type": "markdown",
   "id": "61e1e120",
   "metadata": {},
   "source": [
    "## Figure 1\n",
    "Distribution of $p_T^{\\mu\\mu}$ for data events and illustrative benchmark signal models, after applying the full event selection."
   ]
  },
  {
   "cell_type": "code",
   "execution_count": 57,
   "id": "b630fa78",
   "metadata": {},
   "outputs": [],
   "source": [
    "cuts = np.array([True, True, False, True, True, True, True]) #Don't include any additional HLT cuts\n",
    "#cuts = np.array([False, False, False, False, False, False, False]) #Apply no cuts - see full distributions"
   ]
  },
  {
   "cell_type": "code",
   "execution_count": 58,
   "id": "fb5ea94f",
   "metadata": {},
   "outputs": [
    {
     "name": "stdout",
     "output_type": "stream",
     "text": [
      "Final: 1057 muon pairs\n",
      "Ratio: 0.05285\n",
      "Analyze time: --- 0.04169440269470215 seconds ---\n"
     ]
    }
   ],
   "source": [
    "final_dpA, final_muA, final_amuA, final_cutA, final_evt_cutA = ana.get_cms_eff(dpA, muA, amuA, tracksA, jetsA, cuts)"
   ]
  },
  {
   "cell_type": "code",
   "execution_count": 59,
   "id": "9fbcbe95",
   "metadata": {},
   "outputs": [
    {
     "name": "stdout",
     "output_type": "stream",
     "text": [
      "Final: 13441 muon pairs\n",
      "Ratio: 0.67205\n",
      "Analyze time: --- 0.04334878921508789 seconds ---\n"
     ]
    }
   ],
   "source": [
    "final_dpB, final_muB, final_amuB, final_cutB, final_evt_cutB = ana.get_cms_eff(dpB, muB, amuB, tracksB, jetsB, cuts)"
   ]
  },
  {
   "cell_type": "code",
   "execution_count": 60,
   "id": "2b8ba0ce",
   "metadata": {},
   "outputs": [
    {
     "name": "stdout",
     "output_type": "stream",
     "text": [
      "Final: 14636 muon pairs\n",
      "Ratio: 0.7318\n",
      "Analyze time: --- 0.04300069808959961 seconds ---\n"
     ]
    }
   ],
   "source": [
    "final_dpC, final_muC, final_amuC, final_cutC, final_evt_cutC = ana.get_cms_eff(dpC, muC, amuC, tracksC, jetsC, cuts)"
   ]
  },
  {
   "cell_type": "code",
   "execution_count": 61,
   "id": "1bde8c1d",
   "metadata": {},
   "outputs": [
    {
     "name": "stdout",
     "output_type": "stream",
     "text": [
      "Final: 1428 muon pairs\n",
      "Ratio: 0.6839080459770115\n",
      "Analyze time: --- 0.005795478820800781 seconds ---\n"
     ]
    }
   ],
   "source": [
    "final_dpD, final_muD, final_amuD, final_cutD, final_evt_cutD = ana.get_cms_eff(dpD, muD, amuD, tracksD, jetsD, cuts)"
   ]
  },
  {
   "cell_type": "code",
   "execution_count": 62,
   "id": "e23084f6",
   "metadata": {},
   "outputs": [
    {
     "name": "stdout",
     "output_type": "stream",
     "text": [
      "Final: 2192 muon pairs\n",
      "Ratio: 0.6790582403965304\n",
      "Analyze time: --- 0.007556438446044922 seconds ---\n"
     ]
    }
   ],
   "source": [
    "final_dpE, final_muE, final_amuE, final_cutE, final_evt_cutE = ana.get_cms_eff(dpE, muE, amuE, tracksE, jetsE, cuts)"
   ]
  },
  {
   "cell_type": "markdown",
   "id": "b694b67d",
   "metadata": {},
   "source": [
    "Note: Figures 2, 3, 4 contain condition lxy > 1cm & lxy < 11cm"
   ]
  },
  {
   "cell_type": "code",
   "execution_count": 63,
   "id": "d79f26be",
   "metadata": {},
   "outputs": [],
   "source": [
    "labelA = 'H->ZdZd_m:2-ct:100'\n",
    "labelB = 'H->ZdZd_m:8-ct:10'\n",
    "labelC = 'H->ZdZd_m:15-ct:1'\n",
    "labelD = 'B->phi_m:0.5-ct:1'\n",
    "labelE = 'B->phi_m:2-ct:10'"
   ]
  },
  {
   "cell_type": "code",
   "execution_count": 64,
   "id": "dc99d5fd",
   "metadata": {},
   "outputs": [],
   "source": [
    "dimuon_pTA = phys.comb_pT(final_muA.get(final_cutA), final_amuA.get(final_cutA))\n",
    "dimuon_pTB = phys.comb_pT(final_muB.get(final_cutB), final_amuB.get(final_cutB))\n",
    "dimuon_pTC = phys.comb_pT(final_muC.get(final_cutC), final_amuC.get(final_cutC))\n",
    "dimuon_pTD = phys.comb_pT(final_muD.get(final_cutD), final_amuD.get(final_cutD))\n",
    "dimuon_pTE = phys.comb_pT(final_muE.get(final_cutE), final_amuE.get(final_cutE))"
   ]
  },
  {
   "cell_type": "code",
   "execution_count": 65,
   "id": "7083ee4f",
   "metadata": {},
   "outputs": [],
   "source": [
    "hs = 'step'\n",
    "lw = 1.5\n",
    "nbins = 50\n",
    "rng = (0, 100.)\n",
    "dns = True"
   ]
  },
  {
   "cell_type": "code",
   "execution_count": 67,
   "id": "aef61829",
   "metadata": {},
   "outputs": [
    {
     "data": {
      "image/png": "[encoded data removed]",
      "text/plain": [
       "<Figure size 576x432 with 1 Axes>"
      ]
     },
     "metadata": {
      "needs_background": "light"
     },
     "output_type": "display_data"
    }
   ],
   "source": [
    "fig = plt.figure(figsize=(8,6))\n",
    "plt.ylim((0,0.2))\n",
    "plt.hist(dimuon_pTA, histtype=hs, linewidth=lw, bins=nbins, range=rng, density=dns, color='purple', label=labelA)\n",
    "plt.hist(dimuon_pTB, histtype=hs, linewidth=lw, bins=nbins, range=rng, density=dns, color='red', label=labelB)\n",
    "plt.hist(dimuon_pTC, histtype=hs, linewidth=lw, bins=nbins, range=rng, density=dns, color='brown', label=labelC)\n",
    "plt.hist(dimuon_pTD, histtype=hs, linewidth=lw, bins=nbins, range=rng, density=dns, color='blue', label=labelD)\n",
    "plt.hist(dimuon_pTE, histtype=hs, linewidth=lw, bins=nbins, range=rng, density=dns, color='orange', label=labelE)\n",
    "plt.legend()\n",
    "plt.show()\n",
    "fig.savefig(\"../images/add_fig_1.png\")"
   ]
  },
  {
   "cell_type": "code",
   "execution_count": 21,
   "id": "7aa7f4ee",
   "metadata": {},
   "outputs": [
    {
     "name": "stdout",
     "output_type": "stream",
     "text": [
      "Cut choices\n",
      "True:L1T_cut\n",
      "True:HLT_lxy_cut\n",
      "False:HLT_iso_cut\n",
      "True:HLT_dphi_muonsDV_cut\n",
      "True:HLT_dphi_muons_cut\n",
      "True:HLT_pileup_cut\n",
      "True:HLT_dxy_cut\n"
     ]
    }
   ],
   "source": [
    "ana.print_cut_selection(cuts)"
   ]
  },
  {
   "cell_type": "markdown",
   "id": "fe5a33de",
   "metadata": {},
   "source": [
    "## Figure 2 \n",
    "Distribution of $\\Delta(\\mu\\mu, \\vec{DV})$ for data events and illustrative benchmark signal models, after applying the trigger selections and muon and DV quality criteria. "
   ]
  },
  {
   "cell_type": "code",
   "execution_count": 68,
   "id": "c029aad5",
   "metadata": {},
   "outputs": [],
   "source": [
    "cuts = np.array([True, False, False, False, False, False, False]) #Don't include any additional HLT cuts"
   ]
  },
  {
   "cell_type": "code",
   "execution_count": 69,
   "id": "02ace064",
   "metadata": {},
   "outputs": [
    {
     "name": "stdout",
     "output_type": "stream",
     "text": [
      "Final: 17692 muon pairs\n",
      "Ratio: 0.8846\n",
      "Analyze time: --- 0.037600040435791016 seconds ---\n"
     ]
    }
   ],
   "source": [
    "final_dpA, final_muA, final_amuA, final_cutA, final_evt_cutA = ana.get_cms_eff(dpA, muA, amuA, tracksA, jetsA, cuts)"
   ]
  },
  {
   "cell_type": "code",
   "execution_count": 70,
   "id": "7c00116f",
   "metadata": {},
   "outputs": [
    {
     "name": "stdout",
     "output_type": "stream",
     "text": [
      "Final: 17370 muon pairs\n",
      "Ratio: 0.8685\n",
      "Analyze time: --- 0.037225961685180664 seconds ---\n"
     ]
    }
   ],
   "source": [
    "final_dpB, final_muB, final_amuB, final_cutB, final_evt_cutB = ana.get_cms_eff(dpB, muB, amuB, tracksB, jetsB, cuts)"
   ]
  },
  {
   "cell_type": "code",
   "execution_count": 71,
   "id": "292fe07e",
   "metadata": {},
   "outputs": [
    {
     "name": "stdout",
     "output_type": "stream",
     "text": [
      "Final: 16730 muon pairs\n",
      "Ratio: 0.8365\n",
      "Analyze time: --- 0.037352800369262695 seconds ---\n"
     ]
    }
   ],
   "source": [
    "final_dpC, final_muC, final_amuC, final_cutC, final_evt_cutC = ana.get_cms_eff(dpC, muC, amuC, tracksC, jetsC, cuts)"
   ]
  },
  {
   "cell_type": "code",
   "execution_count": 72,
   "id": "d3ca0cf1",
   "metadata": {},
   "outputs": [
    {
     "name": "stdout",
     "output_type": "stream",
     "text": [
      "Final: 2088 muon pairs\n",
      "Ratio: 1.0\n",
      "Analyze time: --- 0.0043792724609375 seconds ---\n"
     ]
    }
   ],
   "source": [
    "#Note: Just the trigger selections remove the vast majority of the B model\n",
    "final_dpD, final_muD, final_amuD, final_cutD, final_evt_cutD = ana.get_cms_eff(dpD, muD, amuD, tracksD, jetsD, cuts)"
   ]
  },
  {
   "cell_type": "code",
   "execution_count": 73,
   "id": "9393e908",
   "metadata": {},
   "outputs": [
    {
     "name": "stdout",
     "output_type": "stream",
     "text": [
      "Final: 3228 muon pairs\n",
      "Ratio: 1.0\n",
      "Analyze time: --- 0.005884885787963867 seconds ---\n"
     ]
    }
   ],
   "source": [
    "final_dpE, final_muE, final_amuE, final_cutE, final_evt_cutE = ana.get_cms_eff(dpE, muE, amuE, tracksE, jetsE, cuts)"
   ]
  },
  {
   "cell_type": "code",
   "execution_count": 74,
   "id": "628438d3",
   "metadata": {},
   "outputs": [],
   "source": [
    "final_cutA = final_cutA & (phys.lxy(final_muA) > 10.) & (phys.lxy(final_muA) < 110.)\n",
    "final_cutB = final_cutB & (phys.lxy(final_muB) > 10.) & (phys.lxy(final_muB) < 110.)\n",
    "final_cutC = final_cutC & (phys.lxy(final_muC) > 10.) & (phys.lxy(final_muC) < 110.)\n",
    "final_cutD = final_cutD & (phys.lxy(final_muD) > 10.) & (phys.lxy(final_muD) < 110.)\n",
    "final_cutE = final_cutE & (phys.lxy(final_muE) > 10.) & (phys.lxy(final_muE) < 110.)"
   ]
  },
  {
   "cell_type": "code",
   "execution_count": 75,
   "id": "a0e8c042",
   "metadata": {},
   "outputs": [],
   "source": [
    "DV = deepcopy(final_muA.xi)\n",
    "DV[:,3] = 0\n",
    "pmm = (final_muA.p + final_amuA.p)\n",
    "dphiA = vm.vec4_dphi(DV, pmm)"
   ]
  },
  {
   "cell_type": "code",
   "execution_count": 76,
   "id": "2d1ef0bb",
   "metadata": {},
   "outputs": [],
   "source": [
    "DV = deepcopy(final_muB.xi)\n",
    "DV[:,3] = 0\n",
    "pmm = (final_muB.p + final_amuB.p)\n",
    "dphiB = vm.vec4_dphi(DV, pmm)"
   ]
  },
  {
   "cell_type": "code",
   "execution_count": 77,
   "id": "1d9ae1bb",
   "metadata": {},
   "outputs": [],
   "source": [
    "DV = deepcopy(final_muC.xi)\n",
    "DV[:,3] = 0\n",
    "pmm = (final_muC.p + final_amuC.p)\n",
    "dphiC = vm.vec4_dphi(DV, pmm)"
   ]
  },
  {
   "cell_type": "code",
   "execution_count": 78,
   "id": "adc99f25",
   "metadata": {},
   "outputs": [],
   "source": [
    "DV = deepcopy(final_muD.xi)\n",
    "DV[:,3] = 0\n",
    "pmm = (final_muD.p + final_amuD.p)\n",
    "dphiD = vm.vec4_dphi(DV, pmm)"
   ]
  },
  {
   "cell_type": "code",
   "execution_count": 79,
   "id": "15d42435",
   "metadata": {},
   "outputs": [],
   "source": [
    "DV = deepcopy(final_muE.xi)\n",
    "DV[:,3] = 0\n",
    "pmm = (final_muE.p + final_amuE.p)\n",
    "dphiE = vm.vec4_dphi(DV, pmm)"
   ]
  },
  {
   "cell_type": "code",
   "execution_count": 80,
   "id": "e8b83e96",
   "metadata": {},
   "outputs": [],
   "source": [
    "hs = 'step'\n",
    "lw = 1.5\n",
    "nbins = 20\n",
    "rng = (0, 0.2)\n",
    "dns = True"
   ]
  },
  {
   "cell_type": "code",
   "execution_count": 81,
   "id": "721e84ae",
   "metadata": {},
   "outputs": [
    {
     "data": {
      "image/png": "[encoded data removed]",
      "text/plain": [
       "<Figure size 576x432 with 1 Axes>"
      ]
     },
     "metadata": {
      "needs_background": "light"
     },
     "output_type": "display_data"
    }
   ],
   "source": [
    "fig = plt.figure(figsize=(8,6))\n",
    "plt.yscale('log')\n",
    "plt.hist(dphiA[final_cutA], histtype=hs, linewidth=lw, bins=nbins, range=rng, density=dns, color=\"purple\", label=labelA)\n",
    "plt.hist(dphiB[final_cutB], histtype=hs, linewidth=lw, bins=nbins, range=rng, density=dns, color=\"red\", label=labelB)\n",
    "plt.hist(dphiC[final_cutC], histtype=hs, linewidth=lw, bins=nbins, range=rng, density=dns, color=\"brown\", label=labelC)\n",
    "plt.hist(dphiD[final_cutD], histtype=hs, linewidth=lw, bins=nbins, range=rng, density=dns, color=\"blue\", label=labelD)\n",
    "plt.hist(dphiE[final_cutE], histtype=hs, linewidth=lw, bins=nbins, range=rng, density=dns, color=\"orange\", label=labelE)\n",
    "plt.legend()\n",
    "plt.show()\n",
    "fig.savefig(\"../images/add_fig_2.png\")"
   ]
  },
  {
   "cell_type": "code",
   "execution_count": 82,
   "id": "cafdc94e",
   "metadata": {},
   "outputs": [
    {
     "name": "stdout",
     "output_type": "stream",
     "text": [
      "Cut choices\n",
      "True:L1T_cut\n",
      "False:HLT_lxy_cut\n",
      "False:HLT_iso_cut\n",
      "False:HLT_dphi_muonsDV_cut\n",
      "False:HLT_dphi_muons_cut\n",
      "False:HLT_pileup_cut\n",
      "False:HLT_dxy_cut\n"
     ]
    }
   ],
   "source": [
    "ana.print_cut_selection(cuts)"
   ]
  },
  {
   "cell_type": "markdown",
   "id": "8c67e308",
   "metadata": {},
   "source": [
    "## Figure 3\n",
    "Distribution of $log_{10}(|\\Delta\\eta_{\\mu\\mu}|/\\Delta\\phi_{\\mu\\mu}|)$ in data events and illustrative benchmark signal models. The cut value is indicated by the red vertical dashed line. All selections except those involivng muon isolation, $d_{xy}$, and number of excess hits in the pixel tracker for each muon are applied. "
   ]
  },
  {
   "cell_type": "code",
   "execution_count": 83,
   "id": "d195d3d7",
   "metadata": {},
   "outputs": [
    {
     "name": "stdout",
     "output_type": "stream",
     "text": [
      "Final: 1198 muon pairs\n",
      "Ratio: 0.0599\n",
      "Analyze time: --- 0.03850078582763672 seconds ---\n"
     ]
    }
   ],
   "source": [
    "cuts = np.array([True, True, False, True, True, False, False])\n",
    "final_dpA, final_muA, final_amuA, final_cutA, final_evt_cutA = ana.get_cms_eff(dpA, muA, amuA, jetsA, tracksA, cuts)"
   ]
  },
  {
   "cell_type": "code",
   "execution_count": 84,
   "id": "b08f4f45",
   "metadata": {},
   "outputs": [
    {
     "name": "stdout",
     "output_type": "stream",
     "text": [
      "Final: 15219 muon pairs\n",
      "Ratio: 0.76095\n",
      "Analyze time: --- 0.03996586799621582 seconds ---\n"
     ]
    }
   ],
   "source": [
    "final_dpB, final_muB, final_amuB, final_cutB, final_evt_cutB = ana.get_cms_eff(dpB, muB, amuB, jetsB, tracksB, cuts)"
   ]
  },
  {
   "cell_type": "code",
   "execution_count": 85,
   "id": "d31516b7",
   "metadata": {},
   "outputs": [
    {
     "name": "stdout",
     "output_type": "stream",
     "text": [
      "Final: 16557 muon pairs\n",
      "Ratio: 0.82785\n",
      "Analyze time: --- 0.04088735580444336 seconds ---\n"
     ]
    }
   ],
   "source": [
    "final_dpC, final_muC, final_amuC, final_cutC, final_evt_cutC = ana.get_cms_eff(dpC, muC, amuC, tracksC, jetsC, cuts)"
   ]
  },
  {
   "cell_type": "code",
   "execution_count": 86,
   "id": "b5c38a5f",
   "metadata": {},
   "outputs": [
    {
     "name": "stdout",
     "output_type": "stream",
     "text": [
      "Final: 1641 muon pairs\n",
      "Ratio: 0.7859195402298851\n",
      "Analyze time: --- 0.0056574344635009766 seconds ---\n"
     ]
    }
   ],
   "source": [
    "final_dpD, final_muD, final_amuD, final_cutD, final_evt_cutD = ana.get_cms_eff(dpD, muD, amuD, tracksD, jetsD, cuts)"
   ]
  },
  {
   "cell_type": "code",
   "execution_count": 87,
   "id": "05860589",
   "metadata": {},
   "outputs": [
    {
     "name": "stdout",
     "output_type": "stream",
     "text": [
      "Final: 2376 muon pairs\n",
      "Ratio: 0.7360594795539034\n",
      "Analyze time: --- 0.0067822933197021484 seconds ---\n"
     ]
    }
   ],
   "source": [
    "final_dpE, final_muE, final_amuE, final_cutE, final_evt_cutE = ana.get_cms_eff(dpE, muE, amuE, tracksD, jetsD, cuts)"
   ]
  },
  {
   "cell_type": "code",
   "execution_count": 88,
   "id": "690994d1",
   "metadata": {},
   "outputs": [],
   "source": [
    "final_cutA = final_cutA & (phys.lxy(final_muA) > 10.) & (phys.lxy(final_muA) < 110.)\n",
    "final_cutB = final_cutB & (phys.lxy(final_muB) > 10.) & (phys.lxy(final_muB) < 110.)\n",
    "final_cutC = final_cutC & (phys.lxy(final_muC) > 10.) & (phys.lxy(final_muC) < 110.)\n",
    "final_cutD = final_cutD & (phys.lxy(final_muD) > 10.) & (phys.lxy(final_muD) < 110.)\n",
    "final_cutE = final_cutE & (phys.lxy(final_muE) > 10.) & (phys.lxy(final_muE) < 110.)"
   ]
  },
  {
   "cell_type": "code",
   "execution_count": 89,
   "id": "5f93b3ea",
   "metadata": {},
   "outputs": [],
   "source": [
    "pileupA = phys.pileup(final_muA, final_amuA)\n",
    "pileupB = phys.pileup(final_muB, final_amuB)\n",
    "pileupC = phys.pileup(final_muC, final_amuC)\n",
    "pileupD = phys.pileup(final_muD, final_amuD)\n",
    "pileupE = phys.pileup(final_muE, final_amuE)"
   ]
  },
  {
   "cell_type": "code",
   "execution_count": 90,
   "id": "d860016e",
   "metadata": {},
   "outputs": [],
   "source": [
    "hs = 'step'\n",
    "lw = 1.5\n",
    "nbins = 20\n",
    "rng = (0, 0.2)\n",
    "dns = True"
   ]
  },
  {
   "cell_type": "code",
   "execution_count": 91,
   "id": "465e4def",
   "metadata": {},
   "outputs": [
    {
     "data": {
      "image/png": "[encoded data removed]",
      "text/plain": [
       "<Figure size 576x432 with 1 Axes>"
      ]
     },
     "metadata": {
      "needs_background": "light"
     },
     "output_type": "display_data"
    }
   ],
   "source": [
    "fig = plt.figure(figsize=(8,6))\n",
    "plt.ylim((0,0.8))\n",
    "plt.xlim((-4.2,4.2))\n",
    "plt.hist(pileupA, histtype=hs, linewidth=lw, bins=nbins, density=dns, color=\"purple\", label=labelA)\n",
    "plt.hist(pileupB, histtype=hs, linewidth=lw, bins=nbins, density=dns, color=\"red\", label=labelB)\n",
    "plt.hist(pileupC, histtype=hs, linewidth=lw, bins=nbins, density=dns, color=\"brown\", label=labelC)\n",
    "plt.hist(pileupD, histtype=hs, linewidth=lw, bins=nbins, density=dns, color=\"blue\", label=labelD)\n",
    "plt.hist(pileupE, histtype=hs, linewidth=lw, bins=nbins, density=dns, color=\"orange\", label=labelE)\n",
    "plt.legend()\n",
    "plt.show()\n",
    "fig.savefig(\"../images/add_fig_3.png\")"
   ]
  },
  {
   "cell_type": "code",
   "execution_count": 46,
   "id": "26333daf",
   "metadata": {},
   "outputs": [
    {
     "name": "stdout",
     "output_type": "stream",
     "text": [
      "Cut choices\n",
      "True:L1T_cut\n",
      "True:HLT_lxy_cut\n",
      "False:HLT_iso_cut\n",
      "True:HLT_dphi_muonsDV_cut\n",
      "True:HLT_dphi_muons_cut\n",
      "False:HLT_pileup_cut\n",
      "False:HLT_dxy_cut\n"
     ]
    }
   ],
   "source": [
    "ana.print_cut_selection(cuts)"
   ]
  }
 ],
 "metadata": {
  "kernelspec": {
   "display_name": "Python 3",
   "language": "python",
   "name": "python3"
  },
  "language_info": {
   "codemirror_mode": {
    "name": "ipython",
    "version": 3
   },
   "file_extension": ".py",
   "mimetype": "text/x-python",
   "name": "python",
   "nbconvert_exporter": "python",
   "pygments_lexer": "ipython3",
   "version": "3.8.10"
  }
 },
 "nbformat": 4,
 "nbformat_minor": 5
}
